{
 "cells": [
  {
   "cell_type": "markdown",
   "metadata": {},
   "source": [
    "# Yu-Gutnisky-2016 - A DataJoint example\n",
    "This notebook presents data and results associated with the following papers:\n",
    "\n",
    ">Jianing Yu, Diego A Gutnisky, S Andrew Hires & Karel Svoboda1. \"Layer 4 fast-spiking interneurons filter thalamocortical signals during active somatosensation\" (2016) Nat Neurosci (https://dx.doi.org/10.1038/nn.4412)\n",
    "\n",
    "Original data shared here: http://crcns.org/data-sets/ssc/ssc-7\n",
    "\n",
    "The data in original NWB 1 format (.nwb) have been ingested into a DataJoint data pipeline presented below. This notebook demonstrates the queries, processing, and reproduction of several figures from the paper."
   ]
  },
  {
   "cell_type": "code",
   "execution_count": 1,
   "metadata": {},
   "outputs": [
    {
     "name": "stdout",
     "output_type": "stream",
     "text": [
      "Connecting root@127.0.0.1:3306\n"
     ]
    }
   ],
   "source": [
    "from datetime import datetime\n",
    "import os\n",
    "os.chdir('..')\n",
    "\n",
    "import matplotlib.pyplot as plt\n",
    "import numpy as np\n",
    "import pandas as pd\n",
    "import seaborn as sns\n",
    "\n",
    "import datajoint as dj\n",
    "from pipeline import (reference, subject, acquisition, stimulation, analysis, virus,\n",
    "                      intracellular, extracellular, behavior, utilities)"
   ]
  },
  {
   "cell_type": "code",
   "execution_count": 2,
   "metadata": {},
   "outputs": [],
   "source": [
    "cell_key = intracellular.Cell & {'session_id': 'JY1241AAAA'}"
   ]
  },
  {
   "cell_type": "code",
   "execution_count": 3,
   "metadata": {},
   "outputs": [
    {
     "data": {
      "text/html": [
       "\n",
       "        \n",
       "        <style type=\"text/css\">\n",
       "            .Relation{\n",
       "                border-collapse:collapse;\n",
       "            }\n",
       "            .Relation th{\n",
       "                background: #A0A0A0; color: #ffffff; padding:4px; border:#f0e0e0 1px solid;\n",
       "                font-weight: normal; font-family: monospace; font-size: 100%;\n",
       "            }\n",
       "            .Relation td{\n",
       "                padding:4px; border:#f0e0e0 1px solid; font-size:100%;\n",
       "            }\n",
       "            .Relation tr:nth-child(odd){\n",
       "                background: #ffffff;\n",
       "            }\n",
       "            .Relation tr:nth-child(even){\n",
       "                background: #f3f1ff;\n",
       "            }\n",
       "            /* Tooltip container */\n",
       "            .djtooltip {\n",
       "            }\n",
       "            /* Tooltip text */\n",
       "            .djtooltip .djtooltiptext {\n",
       "                visibility: hidden;\n",
       "                width: 120px;\n",
       "                background-color: black;\n",
       "                color: #fff;\n",
       "                text-align: center;\n",
       "                padding: 5px 0;\n",
       "                border-radius: 6px;\n",
       "                /* Position the tooltip text - see examples below! */\n",
       "                position: absolute;\n",
       "                z-index: 1;\n",
       "            }\n",
       "            #primary {\n",
       "                font-weight: bold;\n",
       "                color: black;\n",
       "            }\n",
       "\n",
       "            #nonprimary {\n",
       "                font-weight: normal;\n",
       "                color: white;\n",
       "            }\n",
       "\n",
       "            /* Show the tooltip text when you mouse over the tooltip container */\n",
       "            .djtooltip:hover .djtooltiptext {\n",
       "                visibility: visible;\n",
       "            }\n",
       "        </style>\n",
       "        \n",
       "        \n",
       "            <div style=\"max-height:1000px;max-width:1500px;overflow:auto;\">\n",
       "            <table border=\"1\" class=\"Relation\">\n",
       "                <thead> <tr style=\"text-align: right;\"> <th> <div class=\"djtooltip\">\n",
       "                                <p id=\"primary\">subject_id</p>\n",
       "                                <span class=\"djtooltiptext\">id of the subject (e.g. ANM244028)</span>\n",
       "                            </div></th><th><div class=\"djtooltip\">\n",
       "                                <p id=\"primary\">session_time</p>\n",
       "                                <span class=\"djtooltiptext\">session time</span>\n",
       "                            </div></th><th><div class=\"djtooltip\">\n",
       "                                <p id=\"primary\">session_id</p>\n",
       "                                <span class=\"djtooltiptext\"></span>\n",
       "                            </div></th><th><div class=\"djtooltip\">\n",
       "                                <p id=\"primary\">whisker_config</p>\n",
       "                                <span class=\"djtooltiptext\"></span>\n",
       "                            </div></th><th><div class=\"djtooltip\">\n",
       "                                <p id=\"nonprimary\">cell_type</p>\n",
       "                                <span class=\"djtooltiptext\"></span>\n",
       "                            </div></th><th><div class=\"djtooltip\">\n",
       "                                <p id=\"nonprimary\">brain_region</p>\n",
       "                                <span class=\"djtooltiptext\"></span>\n",
       "                            </div></th><th><div class=\"djtooltip\">\n",
       "                                <p id=\"nonprimary\">brain_subregion</p>\n",
       "                                <span class=\"djtooltiptext\"></span>\n",
       "                            </div></th><th><div class=\"djtooltip\">\n",
       "                                <p id=\"nonprimary\">cortical_layer</p>\n",
       "                                <span class=\"djtooltiptext\">layer within cortex</span>\n",
       "                            </div></th><th><div class=\"djtooltip\">\n",
       "                                <p id=\"nonprimary\">hemisphere</p>\n",
       "                                <span class=\"djtooltiptext\"></span>\n",
       "                            </div></th><th><div class=\"djtooltip\">\n",
       "                                <p id=\"nonprimary\">coordinate_ref</p>\n",
       "                                <span class=\"djtooltiptext\"></span>\n",
       "                            </div></th><th><div class=\"djtooltip\">\n",
       "                                <p id=\"nonprimary\">coordinate_ap</p>\n",
       "                                <span class=\"djtooltiptext\">in mm, anterior positive, posterior negative</span>\n",
       "                            </div></th><th><div class=\"djtooltip\">\n",
       "                                <p id=\"nonprimary\">coordinate_ml</p>\n",
       "                                <span class=\"djtooltiptext\">in mm, always postive, number larger when more lateral</span>\n",
       "                            </div></th><th><div class=\"djtooltip\">\n",
       "                                <p id=\"nonprimary\">coordinate_dv</p>\n",
       "                                <span class=\"djtooltiptext\">in mm, always postive, number larger when more ventral (deeper)</span>\n",
       "                            </div></th><th><div class=\"djtooltip\">\n",
       "                                <p id=\"nonprimary\">device_name</p>\n",
       "                                <span class=\"djtooltiptext\"></span>\n",
       "                            </div></th><th><div class=\"djtooltip\">\n",
       "                                <p id=\"nonprimary\">principal_whisker</p>\n",
       "                                <span class=\"djtooltiptext\">is this the principal whisker</span>\n",
       "                            </div></th><th><div class=\"djtooltip\">\n",
       "                                <p id=\"nonprimary\">distance_to_pole</p>\n",
       "                                <span class=\"djtooltiptext\"></span>\n",
       "                            </div></th><th><div class=\"djtooltip\">\n",
       "                                <p id=\"nonprimary\">touch_offset</p>\n",
       "                                <span class=\"djtooltiptext\"></span>\n",
       "                            </div></th><th><div class=\"djtooltip\">\n",
       "                                <p id=\"nonprimary\">touch_onset</p>\n",
       "                                <span class=\"djtooltiptext\"></span>\n",
       "                            </div></th><th><div class=\"djtooltip\">\n",
       "                                <p id=\"nonprimary\">whisker_angle</p>\n",
       "                                <span class=\"djtooltiptext\"></span>\n",
       "                            </div></th><th><div class=\"djtooltip\">\n",
       "                                <p id=\"nonprimary\">whisker_curvature</p>\n",
       "                                <span class=\"djtooltiptext\"></span>\n",
       "                            </div></th><th><div class=\"djtooltip\">\n",
       "                                <p id=\"nonprimary\">behavior_timestamps</p>\n",
       "                                <span class=\"djtooltiptext\">(s)</span>\n",
       "                            </div> </th> </tr> </thead>\n",
       "                <tbody> <tr> <td>anm244028</td>\n",
       "<td>2014-10-21 00:00:00</td>\n",
       "<td>JY1241AAAA</td>\n",
       "<td>C2</td>\n",
       "<td>Excitatory</td>\n",
       "<td>barrel cortex</td>\n",
       "<td>N/A</td>\n",
       "<td>4</td>\n",
       "<td>left</td>\n",
       "<td>bregma</td>\n",
       "<td>1.80</td>\n",
       "<td>3.50</td>\n",
       "<td>0.50</td>\n",
       "<td>Multiclamp 700B</td>\n",
       "<td>1</td>\n",
       "<td>=BLOB=</td>\n",
       "<td>=BLOB=</td>\n",
       "<td>=BLOB=</td>\n",
       "<td>=BLOB=</td>\n",
       "<td>=BLOB=</td>\n",
       "<td>=BLOB=</td> </tr> </tbody>\n",
       "            </table>\n",
       "            \n",
       "            <p>Total: 1</p></div>\n",
       "            "
      ],
      "text/plain": [
       "*subject_id    *session_time  *session_id    *whisker_confi cell_type      brain_region   brain_subregio cortical_layer hemisphere     coordinate_ref coordinate_ap  coordinate_ml  coordinate_dv  device_name    principal_whis distance_t touch_offs touch_onse whisker_an whisker_cu behavior_t\n",
       "+------------+ +------------+ +------------+ +------------+ +------------+ +------------+ +------------+ +------------+ +------------+ +------------+ +------------+ +------------+ +------------+ +------------+ +------------+ +--------+ +--------+ +--------+ +--------+ +--------+ +--------+\n",
       "anm244028      2014-10-21 00: JY1241AAAA     C2             Excitatory     barrel cortex  N/A            4              left           bregma         1.80           3.50           0.50           Multiclamp 700 1              =BLOB=     =BLOB=     =BLOB=     =BLOB=     =BLOB=     =BLOB=    \n",
       " (Total: 1)"
      ]
     },
     "execution_count": 3,
     "metadata": {},
     "output_type": "execute_result"
    }
   ],
   "source": [
    "cell_key * behavior.Whisker"
   ]
  },
  {
   "cell_type": "code",
   "execution_count": 4,
   "metadata": {},
   "outputs": [],
   "source": [
    "trial_start, trial_stop = (acquisition.TrialSet.Trial & cell_key).fetch('start_time', 'stop_time')"
   ]
  },
  {
   "cell_type": "code",
   "execution_count": 5,
   "metadata": {},
   "outputs": [],
   "source": [
    "dis_to_pole, touch_on, touch_off, whisk_angle, whisk_curv, b_tvec = (behavior.Whisker & cell_key).fetch1(\n",
    "    'distance_to_pole', 'touch_onset', 'touch_offset', 'whisker_angle', 'whisker_curvature', 'behavior_timestamps')\n",
    "b_tvec = b_tvec * 1e-3"
   ]
  },
  {
   "cell_type": "code",
   "execution_count": 6,
   "metadata": {},
   "outputs": [],
   "source": [
    "Vm, v_tvec = (intracellular.MembranePotential & cell_key).fetch1('membrane_potential', 'membrane_potential_timestamps')\n",
    "spike_times = (intracellular.UnitSpikeTimes & cell_key).fetch1('spike_times')\n",
    "lick_traces = (behavior.LickTrace & cell_key).fetch1('lick_trace')"
   ]
  },
  {
   "cell_type": "code",
   "execution_count": 7,
   "metadata": {},
   "outputs": [],
   "source": [
    "tr = 0"
   ]
  },
  {
   "cell_type": "code",
   "execution_count": 8,
   "metadata": {},
   "outputs": [
    {
     "data": {
      "image/png": "[encoded data removed]",
      "text/plain": [
       "<Figure size 720x432 with 5 Axes>"
      ]
     },
     "metadata": {
      "needs_background": "light"
     },
     "output_type": "display_data"
    }
   ],
   "source": [
    "fig1a, axs = plt.subplots(5, 1, figsize=(10, 6))\n",
    "fig1a.subplots_adjust(hspace=0.11)\n",
    "axs[0].plot(v_tvec, np.where(lick_traces > 0, lick_traces, np.nan), 'o', color='deeppink')\n",
    "axs[1].plot(b_tvec, whisk_curv, 'deepskyblue')\n",
    "axs[2].scatter(spike_times, np.full_like(spike_times, 1), c='k', marker='|', linewidths=5)\n",
    "axs[2].scatter(b_tvec[touch_on==1], np.full_like(b_tvec[touch_on==1], 1), c='deepskyblue', marker='|', linewidths=5)\n",
    "axs[3].plot(v_tvec, Vm, 'k')\n",
    "axs[4].plot(b_tvec, whisk_angle, 'g')\n",
    "\n",
    "tr += 1\n",
    "for a in axs:\n",
    "    a.set_xlim((trial_start[tr], trial_stop[tr]))\n",
    "    a.spines['right'].set_visible(False)\n",
    "    a.spines['top'].set_visible(False)\n",
    "    a.spines['left'].set_visible(False)\n",
    "    a.spines['bottom'].set_visible(False)\n",
    "    a.set_yticks([])\n",
    "for a in axs[:-1]:\n",
    "    a.set_xticks([])"
   ]
  }
 ],
 "metadata": {
  "kernelspec": {
   "display_name": "Python 3",
   "language": "python",
   "name": "python3"
  },
  "language_info": {
   "codemirror_mode": {
    "name": "ipython",
    "version": 3
   },
   "file_extension": ".py",
   "mimetype": "text/x-python",
   "name": "python",
   "nbconvert_exporter": "python",
   "pygments_lexer": "ipython3",
   "version": "3.7.0"
  }
 },
 "nbformat": 4,
 "nbformat_minor": 2
}
